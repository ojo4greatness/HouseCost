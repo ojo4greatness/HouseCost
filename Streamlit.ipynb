{
 "cells": [
  {
   "cell_type": "code",
   "execution_count": 15,
   "metadata": {},
   "outputs": [
    {
     "name": "stdout",
     "output_type": "stream",
     "text": [
      "Collecting scikit-learn==0.22.2.post1\n",
      "  Downloading scikit_learn-0.22.2.post1-cp37-cp37m-win_amd64.whl (6.5 MB)\n",
      "Requirement already satisfied: joblib>=0.11 in c:\\users\\andrew\\.conda\\envs\\stream\\lib\\site-packages (from scikit-learn==0.22.2.post1) (1.1.0)\n",
      "Requirement already satisfied: scipy>=0.17.0 in c:\\users\\andrew\\.conda\\envs\\stream\\lib\\site-packages (from scikit-learn==0.22.2.post1) (1.7.3)\n",
      "Requirement already satisfied: numpy>=1.11.0 in c:\\users\\andrew\\.conda\\envs\\stream\\lib\\site-packages (from scikit-learn==0.22.2.post1) (1.21.5)\n",
      "Installing collected packages: scikit-learn\n",
      "  Attempting uninstall: scikit-learn\n",
      "    Found existing installation: scikit-learn 0.22.2\n",
      "    Uninstalling scikit-learn-0.22.2:\n",
      "      Successfully uninstalled scikit-learn-0.22.2\n",
      "Successfully installed scikit-learn-0.22.2.post1\n"
     ]
    }
   ],
   "source": [
    "#!pip install -U scikit-learn\n",
    "#!pip install scikit-learn==0.23.2\n",
    "#!pip install scikit-learn==0.22.2.post1"
   ]
  },
  {
   "cell_type": "code",
   "execution_count": 24,
   "metadata": {},
   "outputs": [
    {
     "name": "stdout",
     "output_type": "stream",
     "text": [
      "Overwriting osman.py\n"
     ]
    }
   ],
   "source": [
    "%%writefile osman.py\n",
    "\n",
    "import streamlit as st\n",
    "import pandas as pd\n",
    "import numpy as np\n",
    "import pickle\n",
    "\n",
    "\n",
    "st.write(\"\"\" AIRBNB Prediction App\"\"\")\n",
    "\n",
    "model=pickle.load(open('model_rf.pkl', 'rb'))\n",
    "scaler = pickle.load(open('scaler.pkl', 'rb'))\n",
    "\n",
    "\n",
    "st.sidebar.header('User Input References')\n",
    "\n",
    "def user_input_features():\n",
    "    host_id=st.number_input('What is the Host ID:')\n",
    "    calculated_host_listings_count = st.number_input('Host listing count:')\n",
    "    longitude = st.number_input(\"Building's longitudinal location:\")\n",
    "    latitude = st.number_input(\"Building's latitudinal location:\")\n",
    "    room_type = st.sidebar.selectbox('Room type',('Entire home/apt','Private room','Shared room'))\n",
    "    \n",
    "    if room_type == 'Entire home/apt':\n",
    "        room_type_Private=0\n",
    "        room_type_Shared=0\n",
    "   \n",
    "    if room_type == 'Private room':\n",
    "        room_type_Private=1\n",
    "        room_type_Shared=0\n",
    "    else:\n",
    "        room_type_Private=0\n",
    "        room_type_Shared=1\n",
    "\n",
    "    \n",
    "    minimum_nights = st.number_input('How many nights will you be staying:',step=1)\n",
    "    availability_365 = st.number_input('For how manuy days is the building available:',step=1, min_value=0, max_value=365)\n",
    "    last_review_Month = st.number_input('On which month was the last review:',step=1, min_value=1, max_value=12)\n",
    "    last_review_Year = st.number_input('On which Year was the last review:',step=1, min_value=2012, max_value=2022)\n",
    "    \n",
    "    reviews_per_month = st.number_input('How many reviews do you receive monthly:',step=1)\n",
    "    number_of_reviews = st.number_input('Number of Reviews received:',step=1)\n",
    "    neighbourhood_group = st.sidebar.selectbox('Neighbourhood Group',['North-East Region','East Region','West Region','North Region', 'Central Region'])     \n",
    "\n",
    "\n",
    "    if neighbourhood_group == 'North-East Region':\n",
    "        neighbourhood_group_North_East_Region=0\n",
    "        neighbourhood_group_East_Region=0\n",
    "        neighbourhood_group_West_Region=0\n",
    "        neighbourhood_group_North_Region=0\n",
    "\n",
    "    if neighbourhood_group == 'East Region':\n",
    "        neighbourhood_group_North_East_Region=1\n",
    "        neighbourhood_group_East_Region=0\n",
    "        neighbourhood_group_West_Region=0\n",
    "        neighbourhood_group_North_Region=0\n",
    "\n",
    "    if neighbourhood_group == 'West Region':\n",
    "        neighbourhood_group_North_East_Region=0\n",
    "        neighbourhood_group_East_Region=1\n",
    "        neighbourhood_group_West_Region=0\n",
    "        neighbourhood_group_North_Region=0\n",
    "\n",
    "    if neighbourhood_group == 'North Region':\n",
    "        neighbourhood_group_North_East_Region=0\n",
    "        neighbourhood_group_East_Region=0\n",
    "        neighbourhood_group_West_Region=1\n",
    "        neighbourhood_group_North_Region=0\n",
    "\n",
    "    else:\n",
    "        neighbourhood_group_East_Region=0\n",
    "        neighbourhood_group_West_Region=0\n",
    "        neighbourhood_group_North_Region=0\n",
    "        neighbourhood_group_Central_Region=1\n",
    "    \n",
    "    data = {\n",
    "        'host_id':host_id,\n",
    "        'calculated_host_listings_count':calculated_host_listings_count,\n",
    "        'longitude':longitude,\n",
    "        'latitude':latitude,\n",
    "        'minimum_nights':minimum_nights,\n",
    "        'availability_365':availability_365,\n",
    "        'Year':last_review_Year,\n",
    "        'Month':last_review_Month,\n",
    "        'reviews_per_month':reviews_per_month,\n",
    "        'number_of_reviews':number_of_reviews,\n",
    "        'room_type_Private room':room_type_Private,\n",
    "        'room_type_Shared room':room_type_Shared,\n",
    "        'neighbourhood_group_North-East Region':neighbourhood_group_North_East_Region,\n",
    "        'neighbourhood_group_East Region':neighbourhood_group_East_Region,\n",
    "        'neighbourhood_group_West Region':neighbourhood_group_West_Region,\n",
    "        'neighbourhood_group_North Region':neighbourhood_group_North_Region\n",
    "\n",
    "        \n",
    "\n",
    "    }\n",
    "    features = pd.DataFrame(data, index=[0])\n",
    "    return features\n",
    "\n",
    "input_df = user_input_features()\n",
    "input_df = scaler.transform(input_df)\n",
    "\n",
    "if st.button('PREDICT'):\n",
    "    y_out = model.predict(input_df)\n",
    "    st.write(f' This room will cost you $', y_out[0])\n",
    "    \n",
    "#st.markdown('My Wonderful app')\n",
    "#st.number_input('Choose your age',step=1, min_value=18, max_value=65)\n",
    "#st.sidebar.select_slider('Choose your salary', (10000, 45000, 600000))\n",
    "#st.sidebar.selectbox('Choose your State',['Enugu','Jigawa','Gombe'])\n"
   ]
  },
  {
   "cell_type": "code",
   "execution_count": null,
   "metadata": {},
   "outputs": [],
   "source": [
    "!streamlit run osman.py"
   ]
  },
  {
   "cell_type": "code",
   "execution_count": null,
   "metadata": {},
   "outputs": [],
   "source": []
  }
 ],
 "metadata": {
  "kernelspec": {
   "display_name": "Python 3",
   "language": "python",
   "name": "python3"
  },
  "language_info": {
   "codemirror_mode": {
    "name": "ipython",
    "version": 3
   },
   "file_extension": ".py",
   "mimetype": "text/x-python",
   "name": "python",
   "nbconvert_exporter": "python",
   "pygments_lexer": "ipython3",
   "version": "3.7.3"
  }
 },
 "nbformat": 4,
 "nbformat_minor": 5
}
